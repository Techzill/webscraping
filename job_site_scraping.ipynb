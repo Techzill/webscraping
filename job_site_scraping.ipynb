{
 "cells": [
  {
   "cell_type": "code",
   "execution_count": 1,
   "id": "d8d47072",
   "metadata": {},
   "outputs": [
    {
     "name": "stdout",
     "output_type": "stream",
     "text": [
      "Requirement already satisfied: requests in c:\\users\\user\\miniconda3\\lib\\site-packages (2.29.0)\n",
      "Requirement already satisfied: certifi>=2017.4.17 in c:\\users\\user\\miniconda3\\lib\\site-packages (from requests) (2023.5.7)\n",
      "Requirement already satisfied: charset-normalizer<4,>=2 in c:\\users\\user\\miniconda3\\lib\\site-packages (from requests) (2.0.4)\n",
      "Requirement already satisfied: urllib3<1.27,>=1.21.1 in c:\\users\\user\\miniconda3\\lib\\site-packages (from requests) (1.26.16)\n",
      "Requirement already satisfied: idna<4,>=2.5 in c:\\users\\user\\miniconda3\\lib\\site-packages (from requests) (3.4)\n",
      "Note: you may need to restart the kernel to use updated packages.\n"
     ]
    }
   ],
   "source": [
    "pip install requests\n"
   ]
  },
  {
   "cell_type": "code",
   "execution_count": 2,
   "id": "59907856",
   "metadata": {},
   "outputs": [
    {
     "name": "stdout",
     "output_type": "stream",
     "text": [
      "Requirement already satisfied: beautifulsoup4 in c:\\users\\user\\miniconda3\\lib\\site-packages (4.12.2)\n",
      "Requirement already satisfied: soupsieve>1.2 in c:\\users\\user\\miniconda3\\lib\\site-packages (from beautifulsoup4) (2.4)\n",
      "Note: you may need to restart the kernel to use updated packages.\n"
     ]
    }
   ],
   "source": [
    "\n",
    "pip install beautifulsoup4"
   ]
  },
  {
   "cell_type": "code",
   "execution_count": 3,
   "id": "b3df8035",
   "metadata": {},
   "outputs": [],
   "source": [
    "import requests\n",
    "from bs4 import BeautifulSoup\n",
    "import csv\n",
    "from itertools import zip_longest"
   ]
  },
  {
   "cell_type": "code",
   "execution_count": 4,
   "id": "cd54268b",
   "metadata": {},
   "outputs": [],
   "source": [
    "#use request to fetch the URL:"
   ]
  },
  {
   "cell_type": "code",
   "execution_count": 5,
   "id": "bcbeb0f4",
   "metadata": {},
   "outputs": [
    {
     "data": {
      "text/plain": [
       "<Response [200]>"
      ]
     },
     "execution_count": 5,
     "metadata": {},
     "output_type": "execute_result"
    }
   ],
   "source": [
    "result = requests.get(\"https://wuzzuf.net/search/jobs/?q=python&a=hpb\")\n",
    "result"
   ]
  },
  {
   "cell_type": "code",
   "execution_count": 6,
   "id": "1a59b47f",
   "metadata": {},
   "outputs": [],
   "source": [
    "#save page content"
   ]
  },
  {
   "cell_type": "code",
   "execution_count": 7,
   "id": "a97cf99f",
   "metadata": {},
   "outputs": [],
   "source": [
    "src = result.content"
   ]
  },
  {
   "cell_type": "code",
   "execution_count": 8,
   "id": "ff83c383",
   "metadata": {},
   "outputs": [],
   "source": [
    "#create soup object to parse content"
   ]
  },
  {
   "cell_type": "code",
   "execution_count": 9,
   "id": "528c9837",
   "metadata": {},
   "outputs": [],
   "source": [
    "soup = BeautifulSoup(src, \"lxml\")"
   ]
  },
  {
   "cell_type": "code",
   "execution_count": 10,
   "id": "8bb8095e",
   "metadata": {},
   "outputs": [],
   "source": [
    "#find the elements containing the info we need"
   ]
  },
  {
   "cell_type": "code",
   "execution_count": 11,
   "id": "332fdb73",
   "metadata": {},
   "outputs": [],
   "source": [
    "job_titles = soup.find_all(\"h2\", {\"class\":\"css-m604qf\"})\n",
    "company_name = soup.find_all(\"a\", {\"class\": \"css-17s97q8\"})\n",
    "location = soup.find_all(\"span\", {\"class\":\"css-5wys0k\"})\n",
    "skill = soup.find_all(\"div\", {\"class\": \"css-y4udm8\"})"
   ]
  },
  {
   "cell_type": "code",
   "execution_count": 12,
   "id": "dfcacde4",
   "metadata": {},
   "outputs": [],
   "source": [
    "job_titles_data = []\n",
    "company_name_list = []\n",
    "location_list =[]\n",
    "skill_list = []"
   ]
  },
  {
   "cell_type": "code",
   "execution_count": 13,
   "id": "131d67cb",
   "metadata": {},
   "outputs": [],
   "source": [
    "for i in range(len(location)):\n",
    "    job_titles_data.append(job_titles[i].text)\n",
    "    company_name_list.append(company_name[i].text)\n",
    "    location_list.append(location[i].text)\n",
    "    skill_list.append(skill[i].text)\n",
    "    "
   ]
  },
  {
   "cell_type": "code",
   "execution_count": 14,
   "id": "cf654a42",
   "metadata": {},
   "outputs": [
    {
     "data": {
      "text/plain": [
       "['Senior ODDO/Python Developer',\n",
       " 'Senior Python Developer (Django - PHP)',\n",
       " 'Remote Senior Python Engineer',\n",
       " 'Remote Python Data Scientist',\n",
       " 'Python Backend Developer',\n",
       " 'SASE Engineer with Python',\n",
       " 'Python/Django Backend Developer',\n",
       " 'Remote Full-stack Python Developer',\n",
       " 'Python Django Developer',\n",
       " 'Remote Lead Python Engineer',\n",
       " 'Remote Python Solutions Developer',\n",
       " 'Remote Python Software Developer',\n",
       " 'Remote Python Engineer',\n",
       " 'Remote Python Programmer',\n",
       " 'Remote Python Analyst']"
      ]
     },
     "execution_count": 14,
     "metadata": {},
     "output_type": "execute_result"
    }
   ],
   "source": [
    "job_titles_data"
   ]
  },
  {
   "cell_type": "code",
   "execution_count": 15,
   "id": "91a0db08",
   "metadata": {},
   "outputs": [
    {
     "name": "stdout",
     "output_type": "stream",
     "text": [
      "Data written to jobs_data.csv\n"
     ]
    }
   ],
   "source": [
    "# Combine the data into a list of tuples\n",
    "data = zip_longest(job_titles_data, company_name_list, location_list, skill_list)\n",
    "\n",
    "# Write the data to a CSV file\n",
    "with open(\"jobs_data.csv\", \"w\", newline=\"\", encoding=\"utf-8\") as csv_file:\n",
    "    writer = csv.writer(csv_file)\n",
    "    # Write headers\n",
    "    writer.writerow([\"Job Title\", \"Company Name\", \"Location\", \"Skills\"])\n",
    "    # Write rows\n",
    "    writer.writerows(data)\n",
    "\n",
    "print(\"Data written to jobs_data.csv\")"
   ]
  },
  {
   "cell_type": "code",
   "execution_count": 16,
   "id": "56432d72",
   "metadata": {},
   "outputs": [
    {
     "data": {
      "text/html": [
       "<div>\n",
       "<style scoped>\n",
       "    .dataframe tbody tr th:only-of-type {\n",
       "        vertical-align: middle;\n",
       "    }\n",
       "\n",
       "    .dataframe tbody tr th {\n",
       "        vertical-align: top;\n",
       "    }\n",
       "\n",
       "    .dataframe thead th {\n",
       "        text-align: right;\n",
       "    }\n",
       "</style>\n",
       "<table border=\"1\" class=\"dataframe\">\n",
       "  <thead>\n",
       "    <tr style=\"text-align: right;\">\n",
       "      <th></th>\n",
       "      <th>Job Title</th>\n",
       "      <th>Company Name</th>\n",
       "      <th>Location</th>\n",
       "      <th>Skills</th>\n",
       "    </tr>\n",
       "  </thead>\n",
       "  <tbody>\n",
       "    <tr>\n",
       "      <th>0</th>\n",
       "      <td>Senior ODDO/Python Developer</td>\n",
       "      <td>The Address Investments for Real Estate Consul...</td>\n",
       "      <td>New Cairo, Cairo, Egypt</td>\n",
       "      <td>Full TimeHybridExperienced · 3 - 5 Yrs of Exp ...</td>\n",
       "    </tr>\n",
       "    <tr>\n",
       "      <th>1</th>\n",
       "      <td>Senior Python Developer (Django - PHP)</td>\n",
       "      <td>Confidential -</td>\n",
       "      <td>Giza, Egypt</td>\n",
       "      <td>Full TimeHybridExperienced · 5+ Yrs of Exp · I...</td>\n",
       "    </tr>\n",
       "    <tr>\n",
       "      <th>2</th>\n",
       "      <td>Remote Senior Python Engineer</td>\n",
       "      <td>Turing -</td>\n",
       "      <td>Cairo, Egypt</td>\n",
       "      <td>Full TimeExperienced · IT/Software Development...</td>\n",
       "    </tr>\n",
       "    <tr>\n",
       "      <th>3</th>\n",
       "      <td>Remote Python Data Scientist</td>\n",
       "      <td>Turing -</td>\n",
       "      <td>Cairo, Egypt</td>\n",
       "      <td>Full TimeEntry Level · IT/Software Development...</td>\n",
       "    </tr>\n",
       "    <tr>\n",
       "      <th>4</th>\n",
       "      <td>Python Backend Developer</td>\n",
       "      <td>Geek Labs -</td>\n",
       "      <td>Maadi, Cairo, Egypt</td>\n",
       "      <td>Full TimeOn-siteEntry Level · 2+ Yrs of Exp · ...</td>\n",
       "    </tr>\n",
       "    <tr>\n",
       "      <th>5</th>\n",
       "      <td>SASE Engineer with Python</td>\n",
       "      <td>CodiLime -</td>\n",
       "      <td>Cairo, Egypt</td>\n",
       "      <td>Freelance / ProjectExperienced · IT/Software D...</td>\n",
       "    </tr>\n",
       "    <tr>\n",
       "      <th>6</th>\n",
       "      <td>Python/Django Backend Developer</td>\n",
       "      <td>mas trading  -</td>\n",
       "      <td>Maadi, Cairo, Egypt</td>\n",
       "      <td>Full TimeRemoteExperienced · 3 - 5 Yrs of Exp ...</td>\n",
       "    </tr>\n",
       "    <tr>\n",
       "      <th>7</th>\n",
       "      <td>Remote Full-stack Python Developer</td>\n",
       "      <td>Scopic Software -</td>\n",
       "      <td>Cairo, Egypt</td>\n",
       "      <td>Full TimeEntry Level · Creative/Design/Art · I...</td>\n",
       "    </tr>\n",
       "    <tr>\n",
       "      <th>8</th>\n",
       "      <td>Python Django Developer</td>\n",
       "      <td>Element8 -</td>\n",
       "      <td>Dubai, United Arab Emirates</td>\n",
       "      <td>Full TimeEntry Level · Creative/Design/Art · I...</td>\n",
       "    </tr>\n",
       "    <tr>\n",
       "      <th>9</th>\n",
       "      <td>Remote Lead Python Engineer</td>\n",
       "      <td>Turing -</td>\n",
       "      <td>Cairo, Egypt</td>\n",
       "      <td>Full TimeExperienced · IT/Software Development...</td>\n",
       "    </tr>\n",
       "    <tr>\n",
       "      <th>10</th>\n",
       "      <td>Remote Python Solutions Developer</td>\n",
       "      <td>Turing -</td>\n",
       "      <td>Cairo, Egypt</td>\n",
       "      <td>Full TimeEntry Level · Installation/Maintenanc...</td>\n",
       "    </tr>\n",
       "    <tr>\n",
       "      <th>11</th>\n",
       "      <td>Remote Python Software Developer</td>\n",
       "      <td>Turing -</td>\n",
       "      <td>Cairo, Egypt</td>\n",
       "      <td>Full TimeEntry Level · Installation/Maintenanc...</td>\n",
       "    </tr>\n",
       "    <tr>\n",
       "      <th>12</th>\n",
       "      <td>Remote Python Engineer</td>\n",
       "      <td>Turing -</td>\n",
       "      <td>Cairo, Egypt</td>\n",
       "      <td>Full TimeEntry Level · Installation/Maintenanc...</td>\n",
       "    </tr>\n",
       "    <tr>\n",
       "      <th>13</th>\n",
       "      <td>Remote Python Programmer</td>\n",
       "      <td>Turing -</td>\n",
       "      <td>Cairo, Egypt</td>\n",
       "      <td>Full TimeEntry Level · IT/Software Development...</td>\n",
       "    </tr>\n",
       "    <tr>\n",
       "      <th>14</th>\n",
       "      <td>Remote Python Analyst</td>\n",
       "      <td>Turing -</td>\n",
       "      <td>Cairo, Egypt</td>\n",
       "      <td>Full TimeEntry Level · IT/Software Development...</td>\n",
       "    </tr>\n",
       "  </tbody>\n",
       "</table>\n",
       "</div>"
      ],
      "text/plain": [
       "                                 Job Title  \\\n",
       "0             Senior ODDO/Python Developer   \n",
       "1   Senior Python Developer (Django - PHP)   \n",
       "2            Remote Senior Python Engineer   \n",
       "3             Remote Python Data Scientist   \n",
       "4                 Python Backend Developer   \n",
       "5                SASE Engineer with Python   \n",
       "6          Python/Django Backend Developer   \n",
       "7       Remote Full-stack Python Developer   \n",
       "8                  Python Django Developer   \n",
       "9              Remote Lead Python Engineer   \n",
       "10       Remote Python Solutions Developer   \n",
       "11        Remote Python Software Developer   \n",
       "12                  Remote Python Engineer   \n",
       "13                Remote Python Programmer   \n",
       "14                   Remote Python Analyst   \n",
       "\n",
       "                                         Company Name  \\\n",
       "0   The Address Investments for Real Estate Consul...   \n",
       "1                                      Confidential -   \n",
       "2                                            Turing -   \n",
       "3                                            Turing -   \n",
       "4                                         Geek Labs -   \n",
       "5                                          CodiLime -   \n",
       "6                                      mas trading  -   \n",
       "7                                   Scopic Software -   \n",
       "8                                          Element8 -   \n",
       "9                                            Turing -   \n",
       "10                                           Turing -   \n",
       "11                                           Turing -   \n",
       "12                                           Turing -   \n",
       "13                                           Turing -   \n",
       "14                                           Turing -   \n",
       "\n",
       "                        Location  \\\n",
       "0       New Cairo, Cairo, Egypt    \n",
       "1                   Giza, Egypt    \n",
       "2                  Cairo, Egypt    \n",
       "3                  Cairo, Egypt    \n",
       "4           Maadi, Cairo, Egypt    \n",
       "5                  Cairo, Egypt    \n",
       "6           Maadi, Cairo, Egypt    \n",
       "7                  Cairo, Egypt    \n",
       "8   Dubai, United Arab Emirates    \n",
       "9                  Cairo, Egypt    \n",
       "10                 Cairo, Egypt    \n",
       "11                 Cairo, Egypt    \n",
       "12                 Cairo, Egypt    \n",
       "13                 Cairo, Egypt    \n",
       "14                 Cairo, Egypt    \n",
       "\n",
       "                                               Skills  \n",
       "0   Full TimeHybridExperienced · 3 - 5 Yrs of Exp ...  \n",
       "1   Full TimeHybridExperienced · 5+ Yrs of Exp · I...  \n",
       "2   Full TimeExperienced · IT/Software Development...  \n",
       "3   Full TimeEntry Level · IT/Software Development...  \n",
       "4   Full TimeOn-siteEntry Level · 2+ Yrs of Exp · ...  \n",
       "5   Freelance / ProjectExperienced · IT/Software D...  \n",
       "6   Full TimeRemoteExperienced · 3 - 5 Yrs of Exp ...  \n",
       "7   Full TimeEntry Level · Creative/Design/Art · I...  \n",
       "8   Full TimeEntry Level · Creative/Design/Art · I...  \n",
       "9   Full TimeExperienced · IT/Software Development...  \n",
       "10  Full TimeEntry Level · Installation/Maintenanc...  \n",
       "11  Full TimeEntry Level · Installation/Maintenanc...  \n",
       "12  Full TimeEntry Level · Installation/Maintenanc...  \n",
       "13  Full TimeEntry Level · IT/Software Development...  \n",
       "14  Full TimeEntry Level · IT/Software Development...  "
      ]
     },
     "execution_count": 16,
     "metadata": {},
     "output_type": "execute_result"
    }
   ],
   "source": [
    "import pandas as pd\n",
    "\n",
    "# Read the CSV file into a DataFrame\n",
    "df = pd.read_csv(\"jobs_data.csv\")\n",
    "\n",
    "# Display the DataFrame\n",
    "df\n"
   ]
  },
  {
   "cell_type": "code",
   "execution_count": null,
   "id": "29031a15",
   "metadata": {},
   "outputs": [],
   "source": []
  }
 ],
 "metadata": {
  "kernelspec": {
   "display_name": "Python 3 (ipykernel)",
   "language": "python",
   "name": "python3"
  },
  "language_info": {
   "codemirror_mode": {
    "name": "ipython",
    "version": 3
   },
   "file_extension": ".py",
   "mimetype": "text/x-python",
   "name": "python",
   "nbconvert_exporter": "python",
   "pygments_lexer": "ipython3",
   "version": "3.10.9"
  }
 },
 "nbformat": 4,
 "nbformat_minor": 5
}
